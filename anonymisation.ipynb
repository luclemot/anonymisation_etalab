{
 "cells": [
  {
   "attachments": {},
   "cell_type": "markdown",
   "metadata": {},
   "source": [
    "## Anonymisation du jeu de données des équidés"
   ]
  },
  {
   "attachments": {},
   "cell_type": "markdown",
   "metadata": {},
   "source": [
    "### Import"
   ]
  },
  {
   "cell_type": "code",
   "execution_count": null,
   "metadata": {},
   "outputs": [],
   "source": [
    "# Import modules\n",
    "\n",
    "# Classic modules\n",
    "import pandas as pd\n",
    "import matplotlib.pyplot as plt\n",
    "import numpy as np\n",
    "import seaborn as sns\n",
    "\n",
    "# Anonymization modules\n",
    "from anonymizer.anonymity import get_k\n",
    "from anonymizer.anonymity import local_aggregation\n",
    "\n",
    "#from anonympy.pandas import dfAnonymizer\n",
    "\n",
    "from pycanon import anonymity, report\n",
    "\n",
    "# Functions\n",
    "from utils.exploration import explo, clean, drop\n",
    "from utils.correlation import categorical_comparison, p_vals_correction, numerical_correlation\n",
    "from utils.tools import col_set\n",
    "from utils.outliers import identify_outliers, identify_num_outliers"
   ]
  },
  {
   "attachments": {},
   "cell_type": "markdown",
   "metadata": {},
   "source": [
    "## User variables"
   ]
  },
  {
   "cell_type": "code",
   "execution_count": null,
   "metadata": {},
   "outputs": [],
   "source": [
    "# Path to your dataset\n",
    "path = \"\"\n",
    "\n",
    "# Columns you want to study\n",
    "cols = []"
   ]
  },
  {
   "cell_type": "code",
   "execution_count": null,
   "metadata": {},
   "outputs": [],
   "source": [
    "# Import data\n",
    "\n",
    "df = pd.read_csv(\n",
    "    path,\n",
    "    usecols = cols,\n",
    "\n",
    "    # Uncomment the following lines as needed\n",
    "\n",
    "    #encoding=\"utf-8\",\n",
    "    #sep=\",\",\n",
    "    #lineterminator=\"\\n\",\n",
    "    #header=0,\n",
    "\n",
    "    # The following is useful if your dataset is large and you wish to test this notebook.\n",
    "    #nrows=100000\n",
    "    )"
   ]
  },
  {
   "cell_type": "code",
   "execution_count": null,
   "metadata": {},
   "outputs": [],
   "source": [
    "df.columns"
   ]
  },
  {
   "attachments": {},
   "cell_type": "markdown",
   "metadata": {},
   "source": [
    "## User variables"
   ]
  },
  {
   "cell_type": "code",
   "execution_count": null,
   "metadata": {},
   "outputs": [],
   "source": [
    "# The identifier fields\n",
    "id_cols = []\n",
    "# The numerical columns\n",
    "num_cols = []\n",
    "# The categorical columns\n",
    "cat_cols = []\n",
    "# The date columns\n",
    "dat_cols = []"
   ]
  },
  {
   "attachments": {},
   "cell_type": "markdown",
   "metadata": {},
   "source": [
    "### Clean-up and exploration"
   ]
  },
  {
   "cell_type": "code",
   "execution_count": null,
   "metadata": {},
   "outputs": [],
   "source": [
    "# Clean data\n",
    "\n",
    "clean(df, id_cols= id_cols)"
   ]
  },
  {
   "cell_type": "code",
   "execution_count": null,
   "metadata": {},
   "outputs": [],
   "source": [
    "# Explore data\n",
    "\n",
    "explo(df, cat_cols, dat_cols, num_cols)"
   ]
  },
  {
   "attachments": {},
   "cell_type": "markdown",
   "metadata": {},
   "source": [
    "## User Variables"
   ]
  },
  {
   "cell_type": "code",
   "execution_count": null,
   "metadata": {},
   "outputs": [],
   "source": [
    "# Delete missing values and columns\n",
    "\n",
    "# Add fields to the columns_to_drop argument if needed\n",
    "columns_to_drop = []\n",
    "drop(df, columns_to_drop)\n",
    "\n",
    "# Choose the target column name\n",
    "target = ''"
   ]
  },
  {
   "cell_type": "code",
   "execution_count": null,
   "metadata": {},
   "outputs": [],
   "source": [
    "df.head(10)"
   ]
  },
  {
   "cell_type": "code",
   "execution_count": null,
   "metadata": {},
   "outputs": [],
   "source": [
    "pvals = []\n",
    "\n",
    "combines = col_set(cat_cols)\n",
    "combines_2 = [x for x in combines if len(x) == 2]\n",
    "\n",
    "for x,y in combines_2:\n",
    "    u, v = categorical_comparison(df, x, y)\n",
    "    pvals.append(u)\n",
    "    print(\"The p-value of the chi2 test between {} and {} is {}\".format(x, y, u))\n",
    "    #v.plot.bar(figsize=(7,4), rot=0)    "
   ]
  },
  {
   "cell_type": "code",
   "execution_count": null,
   "metadata": {},
   "outputs": [],
   "source": [
    "# numerical_correlation"
   ]
  },
  {
   "attachments": {},
   "cell_type": "markdown",
   "metadata": {},
   "source": [
    "### Anonymisation"
   ]
  },
  {
   "cell_type": "code",
   "execution_count": null,
   "metadata": {},
   "outputs": [],
   "source": [
    "# Choose target variables\n",
    "\n",
    "target_variables =list(df.columns)\n",
    "\n",
    "n_1_perc = int((len(df)*0.001)//1)\n",
    "print(n_1_perc)\n",
    "\n",
    "SA = [target]\n",
    "QI = target_variables.copy()\n",
    "QI.remove(target)\n",
    "\n",
    "# Create df copy\n",
    "\n",
    "cols_df = df[target_variables].copy()"
   ]
  },
  {
   "cell_type": "code",
   "execution_count": null,
   "metadata": {},
   "outputs": [],
   "source": [
    "# Creation of validation set\n",
    "\n",
    "val_set = cols_df.sample(frac=0.05)\n",
    "\n",
    "cols_df.drop(index = val_set.index, inplace=True)"
   ]
  },
  {
   "cell_type": "code",
   "execution_count": null,
   "metadata": {},
   "outputs": [],
   "source": [
    "from utils.ano_correc import all_local_aggregation, get_diversities, less_diverse_groups, get_l"
   ]
  },
  {
   "cell_type": "code",
   "execution_count": null,
   "metadata": {},
   "outputs": [],
   "source": [
    "ano_df = all_local_aggregation(cols_df.copy(),k=n_1_perc, variables = target_variables, method = 'regroup_with_smallest')"
   ]
  },
  {
   "cell_type": "code",
   "execution_count": null,
   "metadata": {},
   "outputs": [],
   "source": [
    "cols = list(ano_df.columns)\n",
    "for x in cols :\n",
    "    QI = list(ano_df.columns)\n",
    "    QI.remove(x)\n",
    "    n = np.mean(ano_df.groupby(QI)[x].count())\n",
    "    l = get_l(ano_df, QI, x)\n",
    "    print(\"For {} as QIs and {} as the target, the l-diversity is of {} throughout {} values on average.\".format(QI, x, l, n))\n",
    "    trial = get_diversities(ano_df, QI, x)\n",
    "    #print(trial.head())"
   ]
  },
  {
   "attachments": {},
   "cell_type": "markdown",
   "metadata": {},
   "source": [
    "### Protection des outliers"
   ]
  },
  {
   "cell_type": "code",
   "execution_count": null,
   "metadata": {},
   "outputs": [],
   "source": [
    "temp = ano_df"
   ]
  },
  {
   "cell_type": "code",
   "execution_count": null,
   "metadata": {},
   "outputs": [],
   "source": [
    "# Il faudrait déterminer une méthodologie : étant donnée la taille totale du jeu, comment choisir une valeur de n acceptable?\n",
    "# Ici, 10 pour n = 10 000 : on est sur 0.0001\n",
    "n = 10\n",
    "cat_cols = temp.columns"
   ]
  },
  {
   "cell_type": "markdown",
   "metadata": {},
   "source": [
    "Identification des outliers en terme de donnée catégorielle"
   ]
  },
  {
   "cell_type": "code",
   "execution_count": null,
   "metadata": {},
   "outputs": [],
   "source": [
    "dic = identify_outliers(temp, target, cat_cols, n)"
   ]
  },
  {
   "cell_type": "code",
   "execution_count": null,
   "metadata": {},
   "outputs": [],
   "source": [
    "to_remove = [list(u.index.values) for u in dic.values()]\n",
    "to_remove = [set(u) for u in to_remove]\n",
    "to_remove = set().union(*to_remove)"
   ]
  },
  {
   "attachments": {},
   "cell_type": "markdown",
   "metadata": {},
   "source": [
    "Identification des outliers en terme de donnée numérique"
   ]
  },
  {
   "cell_type": "code",
   "execution_count": null,
   "metadata": {},
   "outputs": [],
   "source": [
    "identify_num_outliers(cols_df, num_cols, target)"
   ]
  },
  {
   "attachments": {},
   "cell_type": "markdown",
   "metadata": {},
   "source": [
    "Traitement des outliers"
   ]
  },
  {
   "cell_type": "code",
   "execution_count": null,
   "metadata": {},
   "outputs": [],
   "source": [
    "cols_df.reset_index(inplace=True, drop=True)"
   ]
  },
  {
   "cell_type": "code",
   "execution_count": null,
   "metadata": {},
   "outputs": [],
   "source": [
    "# Outliers s'opposent à la non individualisation : on a le droit d'écarter la donnée\n",
    "\n",
    "cols_df.drop(index = to_remove, inplace=True)\n",
    "temp.drop(index=to_remove, inplace=True)"
   ]
  },
  {
   "cell_type": "code",
   "execution_count": null,
   "metadata": {},
   "outputs": [],
   "source": [
    "cols_df.to_csv(\"data/ori.csv\")\n",
    "val_set.to_csv(\"data/control.csv\")\n",
    "temp.to_csv(\"data/ano.csv\")"
   ]
  }
 ],
 "metadata": {
  "kernelspec": {
   "display_name": "Python 3",
   "language": "python",
   "name": "python3"
  },
  "language_info": {
   "codemirror_mode": {
    "name": "ipython",
    "version": 3
   },
   "file_extension": ".py",
   "mimetype": "text/x-python",
   "name": "python",
   "nbconvert_exporter": "python",
   "pygments_lexer": "ipython3",
   "version": "3.10.6"
  },
  "orig_nbformat": 4
 },
 "nbformat": 4,
 "nbformat_minor": 2
}
