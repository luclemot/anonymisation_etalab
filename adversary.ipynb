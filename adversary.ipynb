{
 "cells": [
  {
   "attachments": {},
   "cell_type": "markdown",
   "metadata": {},
   "source": [
    "## Module adverse - analyse de qualité de l'anonymisation"
   ]
  },
  {
   "attachments": {},
   "cell_type": "markdown",
   "metadata": {},
   "source": [
    "### Import"
   ]
  },
  {
   "cell_type": "code",
   "execution_count": null,
   "metadata": {},
   "outputs": [],
   "source": [
    "# Import modules\n",
    "\n",
    "# Classic modules\n",
    "import pandas as pd\n",
    "import matplotlib.pyplot as plt\n",
    "\n",
    "#from anonympy.pandas import dfAnonymizer\n",
    "\n",
    "from pycanon import anonymity, report\n",
    "\n",
    "# Functions\n",
    "from utils.exploration import explo, clean, drop\n",
    "from utils.correlation import categorical_comparison, p_vals_correction, numerical_correlation\n",
    "from utils.tools import col_set\n",
    "from utils.outliers import identify_outliers, explore_outliers, identify_num_outliers, cluster\n",
    "from utils.stats import categorical_loss, numerical_loss, plot_info_loss, target_loss\n",
    "from utils.inference import Infer_Model, compare_models\n",
    "\n",
    "from utils.ano_correc import all_local_aggregation, get_diversities, less_diverse_groups, get_l"
   ]
  },
  {
   "cell_type": "code",
   "execution_count": null,
   "metadata": {},
   "outputs": [],
   "source": [
    "# Path to your dataset\n",
    "path_to_ano = \"\"\n",
    "path_to_original = \"\"\n",
    "\n",
    "# Columns you want to study\n",
    "cols = []"
   ]
  },
  {
   "cell_type": "code",
   "execution_count": null,
   "metadata": {},
   "outputs": [],
   "source": [
    "# Import data\n",
    "\n",
    "cols_df = pd.read_csv(\n",
    "    path_to_original,\n",
    "    usecols = cols,\n",
    "\n",
    "    # Uncomment the following lines as needed\n",
    "\n",
    "    #encoding=\"utf-8\",\n",
    "    #sep=\",\",\n",
    "    #lineterminator=\"\\n\",\n",
    "    #header=0,\n",
    "\n",
    "    # The following is useful if your dataset is large and you wish to test this notebook.\n",
    "    #nrows=100000\n",
    "    )"
   ]
  },
  {
   "cell_type": "code",
   "execution_count": null,
   "metadata": {},
   "outputs": [],
   "source": [
    "ano_df = pd.read_csv(path_to_ano, usecols=cols)"
   ]
  },
  {
   "attachments": {},
   "cell_type": "markdown",
   "metadata": {},
   "source": [
    "## User variables"
   ]
  },
  {
   "cell_type": "code",
   "execution_count": null,
   "metadata": {},
   "outputs": [],
   "source": [
    "target =''\n",
    "QI = []\n",
    "SA = []\n",
    "num_cols = []\n",
    "cat_cols = []\n",
    "\n",
    "n_1_perc = int((len(cols_df)*0.001)//1)"
   ]
  },
  {
   "attachments": {},
   "cell_type": "markdown",
   "metadata": {},
   "source": [
    "### Approche adverse"
   ]
  },
  {
   "cell_type": "code",
   "execution_count": null,
   "metadata": {},
   "outputs": [],
   "source": [
    "temp = ano_df\n",
    "val_set = cols_df.sample(frac=0.05)\n",
    "cols_df.drop(index = val_set.index, inplace=True)"
   ]
  },
  {
   "cell_type": "code",
   "execution_count": null,
   "metadata": {},
   "outputs": [],
   "source": [
    "# Calculate k for k-anonymity:\n",
    "k = anonymity.k_anonymity(temp, QI)\n",
    "\n",
    "print(\"According to the anonymity pycanon module, the k-anonymity is {}\".format(k))"
   ]
  },
  {
   "cell_type": "code",
   "execution_count": null,
   "metadata": {},
   "outputs": [],
   "source": [
    "# Print the anonymity report:\n",
    "temp.reset_index(inplace=True, drop=True)\n",
    "report.print_report(temp, QI, SA)\n",
    "\n",
    "# Analyze results"
   ]
  },
  {
   "attachments": {},
   "cell_type": "markdown",
   "metadata": {},
   "source": [
    "#### Non individualisation :"
   ]
  },
  {
   "cell_type": "code",
   "execution_count": null,
   "metadata": {},
   "outputs": [],
   "source": [
    "# Identify outliers\n",
    "\n",
    "temp.describe()"
   ]
  },
  {
   "attachments": {},
   "cell_type": "markdown",
   "metadata": {},
   "source": [
    "Identification des outliers en terme de donnée catégorielle"
   ]
  },
  {
   "cell_type": "code",
   "execution_count": null,
   "metadata": {},
   "outputs": [],
   "source": [
    "# regarder PCA projetée en 2D et regarder un plot\n",
    "\n",
    "from sklearn.preprocessing import OneHotEncoder\n",
    "enc = OneHotEncoder()\n",
    "X = enc.fit_transform(temp[QI]).toarray()\n",
    "\n",
    "from sklearn.decomposition import PCA\n",
    "\n",
    "pca = PCA(n_components=2)\n",
    "\n",
    "res = pd.DataFrame(pca.fit_transform(X),columns=['PC1','PC2']) \n",
    "\n",
    "plt.scatter(res['PC1'], res['PC2'])\n",
    "plt.show()"
   ]
  },
  {
   "attachments": {},
   "cell_type": "markdown",
   "metadata": {},
   "source": [
    "Identification des outliers en terme de donnée numérique"
   ]
  },
  {
   "cell_type": "code",
   "execution_count": null,
   "metadata": {},
   "outputs": [],
   "source": [
    "# use identify_num_outliers"
   ]
  },
  {
   "attachments": {},
   "cell_type": "markdown",
   "metadata": {},
   "source": [
    "Identification des doubles outliers"
   ]
  },
  {
   "cell_type": "code",
   "execution_count": null,
   "metadata": {},
   "outputs": [],
   "source": [
    "# Cluster analysis\n",
    "\n",
    "cluster(temp, n_clusters = 100, cat_cols = cat_cols)\n"
   ]
  },
  {
   "attachments": {},
   "cell_type": "markdown",
   "metadata": {},
   "source": [
    "#### Non inférence :"
   ]
  },
  {
   "attachments": {},
   "cell_type": "markdown",
   "metadata": {},
   "source": [
    "Premier scénario d'attaque : prédire un attribut d'un individu"
   ]
  },
  {
   "cell_type": "code",
   "execution_count": null,
   "metadata": {},
   "outputs": [],
   "source": [
    "# Comparer l'inférence pour toutes les répartitions de variables\n",
    "\n",
    "res = pd.DataFrame(columns = [\"Target\", \"Score de performance de la prédiction\", \"Delta in score\"])\n",
    "\n",
    "for x in temp.columns :\n",
    "    target = str(x) \n",
    "\n",
    "    model = Infer_Model(temp, cat_cols=cat_cols, num_cols = num_cols, target = target)\n",
    "    before_model = Infer_Model(cols_df, cat_cols=cat_cols, num_cols = num_cols, target = target)\n",
    "    val_model = Infer_Model(val_set, cat_cols=cat_cols, num_cols = num_cols, target = target)\n",
    "\n",
    "    model.prep_data()\n",
    "    before_model.prep_data()\n",
    "    val_model.prep_data()\n",
    "\n",
    "    model.df = model.df.align(before_model.df, join='right', axis=1, fill_value=0)[0]\n",
    "    val_model.df = val_model.df.align(before_model.df, join='right', axis=1, fill_value=0)[0]\n",
    "\n",
    "    x_train, x_test, y_train, y_test =  model.split()\n",
    "    pred = model.train_model(x_train, x_test, y_train, y_test)\n",
    "    x_train, x_test, y_train, y_test =  before_model.split()\n",
    "    pred_original = before_model.train_model(x_train, x_test, y_train, y_test)\n",
    "\n",
    "    new_cols =list(val_model.df.columns)\n",
    "    new_cols.remove(target)\n",
    "    _, model_score, delta = compare_models(pred, pred_original, val_model.df[new_cols], val_model.df[target], print=False)\n",
    "    res.loc[len(res)] = [target, model_score, delta]\n"
   ]
  },
  {
   "cell_type": "code",
   "execution_count": null,
   "metadata": {},
   "outputs": [],
   "source": [
    "res.plot.bar(x='Target', stacked=True, color=['tomato','lightseagreen'], figsize=(7,5))"
   ]
  },
  {
   "cell_type": "code",
   "execution_count": null,
   "metadata": {},
   "outputs": [],
   "source": [
    "plot_info_loss(cols_df, temp, cat_cols)"
   ]
  },
  {
   "attachments": {},
   "cell_type": "markdown",
   "metadata": {},
   "source": [
    "Deuxième scénario d'attaque : ré-entrainer un modèle en connaissant un certain nombre de lignes"
   ]
  },
  {
   "cell_type": "code",
   "execution_count": null,
   "metadata": {},
   "outputs": [],
   "source": [
    "# on train sur un sous-jeu\n",
    "attack_df = cols_df[cols].copy()\n",
    "\n",
    "attacker_set = attack_df.sample(frac=0.3)\n",
    "attack_df.drop(index = attacker_set.index, inplace=True)"
   ]
  },
  {
   "cell_type": "code",
   "execution_count": null,
   "metadata": {},
   "outputs": [],
   "source": [
    "# On entraine le modèle\n",
    "attack_model = Infer_Model(attacker_set, cat_cols=cat_cols, num_cols = [], target = target)\n",
    "attack_model.prep_data()\n",
    "x_train, x_test, y_train, y_test =  attack_model.split()\n",
    "attack_pred = attack_model.train_model(x_train, x_test, y_train, y_test)"
   ]
  },
  {
   "cell_type": "code",
   "execution_count": null,
   "metadata": {},
   "outputs": [],
   "source": [
    "# on teste sur la donnée anonymisée et sur la donnée normale et on voit si on sous-performe maintenant\n",
    "attacker_ano = all_local_aggregation(attack_df.copy(),k=n_1_perc, variables = QI, method = 'regroup_with_smallest')\n",
    "\n",
    "for x in [attacker_ano, attack_df]:\n",
    "    val_model = Infer_Model(x, cat_cols=QI, num_cols = [], target = target)\n",
    "    val_model.prep_data()\n",
    "    val_model.df = val_model.df.align(attack_model.df, join='right', axis=1, fill_value=0)[0]\n",
    "    new_cols =list(val_model.df.columns)\n",
    "    new_cols.remove(target)\n",
    "    print(attack_pred.score(val_model.df[new_cols], val_model.df[target]))"
   ]
  },
  {
   "attachments": {},
   "cell_type": "markdown",
   "metadata": {},
   "source": [
    "#### Qualité de la donnée statistique"
   ]
  },
  {
   "cell_type": "code",
   "execution_count": null,
   "metadata": {},
   "outputs": [],
   "source": [
    "# Perte d'information - donnée catégorielle\n",
    "categorical_loss(cols_df, temp, QI)\n",
    "\n",
    "target_loss(cols_df, ano_df, target)"
   ]
  },
  {
   "cell_type": "code",
   "execution_count": null,
   "metadata": {},
   "outputs": [],
   "source": [
    "# Perte d'information - donnée numérique\n",
    "numerical_loss(cols_df, temp, num_cols)"
   ]
  }
 ],
 "metadata": {
  "kernelspec": {
   "display_name": "Python 3",
   "language": "python",
   "name": "python3"
  },
  "language_info": {
   "codemirror_mode": {
    "name": "ipython",
    "version": 3
   },
   "file_extension": ".py",
   "mimetype": "text/x-python",
   "name": "python",
   "nbconvert_exporter": "python",
   "pygments_lexer": "ipython3",
   "version": "3.10.6"
  },
  "orig_nbformat": 4
 },
 "nbformat": 4,
 "nbformat_minor": 2
}
