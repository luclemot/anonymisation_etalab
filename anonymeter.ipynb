{
 "cells": [
  {
   "attachments": {},
   "cell_type": "markdown",
   "id": "66b36556-e9af-4cf9-bb9c-25f12d3fc322",
   "metadata": {},
   "source": [
    "# Anonymeter notebook\n",
    "\n",
    "This notebook uses the `Anonymeter` software to estimate and quantify the quality of an anonymous dataset. This is heavily inspired by the example notebook accessible on their [git repo](https://github.com/statice/anonymeter/tree/main).\n",
    "\n",
    "`Anonymeter` contains privacy evaluators which measures the risks of singling out, linkability, and inference which might incur to data donors following the release of synthetic dataset. These risk are the three key indicators of factual anonymization according to the European General Data Protection Regulation (GDPR). For more details, please refer to [M. Giomi et al. 2022](https://petsymposium.org/popets/2023/popets-2023-0055.php)."
   ]
  },
  {
   "cell_type": "code",
   "execution_count": null,
   "id": "c64a6fab-1676-4539-b460-5b2fdb456b04",
   "metadata": {},
   "outputs": [],
   "source": [
    "import os\n",
    "import pandas as pd\n",
    "import matplotlib.pyplot as plt\n",
    "import seaborn as sns\n",
    "\n",
    "from anonymeter.evaluators import SinglingOutEvaluator\n",
    "from anonymeter.evaluators import LinkabilityEvaluator\n",
    "from anonymeter.evaluators import InferenceEvaluator"
   ]
  },
  {
   "attachments": {},
   "cell_type": "markdown",
   "id": "ada19947-b895-4279-aac3-9b87fac2fa6b",
   "metadata": {},
   "source": [
    "## Downloading the data"
   ]
  },
  {
   "cell_type": "code",
   "execution_count": null,
   "id": "fc128115-2f0c-43b1-9198-5c5594eae7f3",
   "metadata": {},
   "outputs": [],
   "source": [
    "bucket_url = \"data/\"\n",
    "\n",
    "ori = pd.read_csv(os.path.join(bucket_url, \"ori.csv\"), index_col = 0)\n",
    "syn = pd.read_csv(os.path.join(bucket_url, \"ano.csv\"), index_col = 0)\n",
    "control = pd.read_csv(os.path.join(bucket_url, \"control.csv\"), index_col = 0)"
   ]
  },
  {
   "cell_type": "code",
   "execution_count": null,
   "id": "f6abeed8-23ae-4d4a-9cdb-006c0bba109c",
   "metadata": {},
   "outputs": [],
   "source": [
    "print(ori.dtypes)\n",
    "print(syn.dtypes) \n",
    "print(control.dtypes)"
   ]
  },
  {
   "cell_type": "code",
   "execution_count": null,
   "id": "eb345e8d",
   "metadata": {},
   "outputs": [],
   "source": [
    "len(syn)"
   ]
  },
  {
   "attachments": {},
   "cell_type": "markdown",
   "id": "52811434-e3ed-464e-8bbc-eafb1dfe0eb1",
   "metadata": {
    "tags": []
   },
   "source": [
    "### Measuring the singling out risk\n"
   ]
  },
  {
   "cell_type": "code",
   "execution_count": null,
   "id": "43acdda6-19d5-4611-ba4f-498fc7bd2d40",
   "metadata": {},
   "outputs": [],
   "source": [
    "evaluator = SinglingOutEvaluator(ori=ori, \n",
    "                                 syn=syn, \n",
    "                                 control=control,\n",
    "                                 n_attacks=500)\n",
    "\n",
    "try:\n",
    "    evaluator.evaluate(mode='univariate')\n",
    "    risk = evaluator.risk()\n",
    "    print(risk)\n",
    "\n",
    "except RuntimeError as ex: \n",
    "    print(f\"Singling out evaluation failed with {ex}. Please re-run this cell.\"\n",
    "          \"For more stable results increase `n_attacks`. Note that this will \"\n",
    "          \"make the evaluation slower.\")"
   ]
  },
  {
   "attachments": {},
   "cell_type": "markdown",
   "id": "b0693e9c-0f69-4c4c-b506-4e7bd7190031",
   "metadata": {},
   "source": [
    "### Inspecting the results in more details"
   ]
  },
  {
   "attachments": {},
   "cell_type": "markdown",
   "id": "f7db3b47-22e3-4d1f-8495-770799c378cc",
   "metadata": {},
   "source": [
    "There are two methods to inspect the results. The high level `risk()` method gives the high level estimation of the privacy risk, and its confidence interval."
   ]
  },
  {
   "cell_type": "code",
   "execution_count": null,
   "id": "4ea008ba-05a8-47b2-a316-132fe628cae3",
   "metadata": {},
   "outputs": [],
   "source": [
    "evaluator.risk(confidence_level=0.95)"
   ]
  },
  {
   "attachments": {},
   "cell_type": "markdown",
   "id": "ba233989-5556-4f89-8037-1c26d78c8127",
   "metadata": {},
   "source": [
    "for more information, the `results()` method gives the success rates of the three attacks (the \"main\" one, the baseline one, and the one against control) that enters `Anonymeter` risk calculation."
   ]
  },
  {
   "cell_type": "code",
   "execution_count": null,
   "id": "367928ba-7a1e-4c20-9dc6-84c490873700",
   "metadata": {},
   "outputs": [],
   "source": [
    "res = evaluator.results()\n",
    "\n",
    "print(\"Successs rate of main attack:\", res.attack_rate)\n",
    "print(\"Successs rate of baseline attack:\", res.baseline_rate)\n",
    "print(\"Successs rate of control attack:\", res.control_rate)"
   ]
  },
  {
   "attachments": {},
   "cell_type": "markdown",
   "id": "8543aad4-897c-4e80-96a7-a47aea1caf22",
   "metadata": {},
   "source": [
    "Note that you can obtain the `PrivacyRisk` from the attack results by:"
   ]
  },
  {
   "cell_type": "code",
   "execution_count": null,
   "id": "d1081269-1830-430f-8305-9f254641de89",
   "metadata": {},
   "outputs": [],
   "source": [
    "res.risk()"
   ]
  },
  {
   "attachments": {},
   "cell_type": "markdown",
   "id": "00f4e993-defe-4c83-a4b3-da2cdf2ca02f",
   "metadata": {},
   "source": [
    "### Checking singling out with multivariate predicates"
   ]
  },
  {
   "cell_type": "code",
   "execution_count": null,
   "id": "1a875b5f-4f75-4585-83b5-d0703ac82f90",
   "metadata": {
    "tags": []
   },
   "outputs": [],
   "source": [
    "evaluator = SinglingOutEvaluator(ori=ori, \n",
    "                                 syn=syn, \n",
    "                                 control=control,\n",
    "                                 n_attacks=100, # this attack takes longer\n",
    "                                 n_cols=4)\n",
    "\n",
    "\n",
    "try:\n",
    "    evaluator.evaluate(mode='multivariate')\n",
    "    risk = evaluator.risk()\n",
    "    print(risk)\n",
    "\n",
    "except RuntimeError as ex: \n",
    "    print(f\"Singling out evaluation failed with {ex}. Please re-run this cell.\"\n",
    "          \"For more stable results increase `n_attacks`. Note that this will \"\n",
    "          \"make the evaluation slower.\")"
   ]
  },
  {
   "cell_type": "code",
   "execution_count": null,
   "id": "786dbb5b-6b52-41c1-8d07-2d9467a3d649",
   "metadata": {},
   "outputs": [],
   "source": [
    "evaluator.queries()[:3]"
   ]
  },
  {
   "attachments": {},
   "cell_type": "markdown",
   "id": "acff772b-3f99-402d-b1b6-01b0e09bd5b1",
   "metadata": {},
   "source": [
    "# Measuring the Linkability risk"
   ]
  },
  {
   "cell_type": "code",
   "execution_count": null,
   "id": "dad588b3-b241-4256-ac11-ae73d9206782",
   "metadata": {},
   "outputs": [],
   "source": [
    "aux_cols = [\n",
    "    [],\n",
    "    []\n",
    "    ]\n",
    "\n",
    "evaluator = LinkabilityEvaluator(ori=ori, \n",
    "                                 syn=syn, \n",
    "                                 control=control,\n",
    "                                 n_attacks=100,\n",
    "                                 aux_cols=aux_cols,\n",
    "                                 n_neighbors=10)\n",
    "\n",
    "evaluator.evaluate(n_jobs=-2)  # n_jobs follow joblib convention. -1 = all cores, -2 = all execept one\n",
    "evaluator.risk()"
   ]
  },
  {
   "cell_type": "code",
   "execution_count": null,
   "id": "321da78a-d695-4d7c-8a62-f1a226bfc04a",
   "metadata": {},
   "outputs": [],
   "source": [
    "res = evaluator.results()\n",
    "\n",
    "print(\"Successs rate of main attack:\", res.attack_rate)\n",
    "print(\"Successs rate of baseline attack:\", res.baseline_rate)\n",
    "print(\"Successs rate of control attack:\", res.control_rate)"
   ]
  },
  {
   "cell_type": "code",
   "execution_count": null,
   "id": "c4d3644a-dd36-4807-aa3f-cf244cfd5d55",
   "metadata": {},
   "outputs": [],
   "source": [
    "print(evaluator.risk(n_neighbors=7))"
   ]
  },
  {
   "attachments": {},
   "cell_type": "markdown",
   "id": "0429baae-424d-4ebe-b8ec-9205397515ba",
   "metadata": {},
   "source": [
    "# Measuring the Inference Risk"
   ]
  },
  {
   "cell_type": "code",
   "execution_count": null,
   "id": "6c07054c-7ced-46c3-8a12-14123f6cc965",
   "metadata": {
    "tags": []
   },
   "outputs": [],
   "source": [
    "columns = ori.columns\n",
    "results = []\n",
    "\n",
    "for secret in columns:\n",
    "    \n",
    "    aux_cols = [col for col in columns if col != secret]\n",
    "    \n",
    "    evaluator = InferenceEvaluator(ori=ori, \n",
    "                                   syn=syn, \n",
    "                                   control=control,\n",
    "                                   aux_cols=aux_cols,\n",
    "                                   secret=secret,\n",
    "                                   n_attacks=100)\n",
    "    evaluator.evaluate(n_jobs=-2)\n",
    "    results.append((secret, evaluator.results()))"
   ]
  },
  {
   "cell_type": "code",
   "execution_count": null,
   "id": "0e492eeb-d296-4973-a08e-c5afc0ac36b5",
   "metadata": {
    "tags": []
   },
   "outputs": [],
   "source": [
    "fig, ax = plt.subplots()\n",
    "\n",
    "risks = [res[1].risk().value for res in results]\n",
    "columns = [res[0] for res in results]\n",
    "\n",
    "ax.bar(x=columns, height=risks, alpha=0.5, ecolor='black', capsize=10)\n",
    "\n",
    "plt.xticks(rotation=45, ha='right')\n",
    "ax.set_ylabel(\"Measured inference risk\")\n",
    "_ = ax.set_xlabel(\"Secret column\")"
   ]
  }
 ],
 "metadata": {
  "kernelspec": {
   "display_name": "sdk",
   "language": "python",
   "name": "python3"
  },
  "language_info": {
   "codemirror_mode": {
    "name": "ipython",
    "version": 3
   },
   "file_extension": ".py",
   "mimetype": "text/x-python",
   "name": "python",
   "nbconvert_exporter": "python",
   "pygments_lexer": "ipython3",
   "version": "3.10.6"
  },
  "vscode": {
   "interpreter": {
    "hash": "237cf5f6b3dcd73bf2688629baee50bd53e43ee0aa8f2bde7060bbd4d3c193da"
   }
  }
 },
 "nbformat": 4,
 "nbformat_minor": 5
}
